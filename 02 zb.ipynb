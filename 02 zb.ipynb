{
 "cells": [
  {
   "cell_type": "code",
   "execution_count": 2,
   "metadata": {},
   "outputs": [
    {
     "data": {
      "text/plain": [
       "'C:\\\\Users\\\\Equipo'"
      ]
     },
     "execution_count": 2,
     "metadata": {},
     "output_type": "execute_result"
    }
   ],
   "source": [
    "pwd"
   ]
  },
  {
   "cell_type": "code",
   "execution_count": 1,
   "metadata": {},
   "outputs": [],
   "source": [
    "import pandas as pd "
   ]
  },
  {
   "cell_type": "code",
   "execution_count": 10,
   "metadata": {},
   "outputs": [
    {
     "data": {
      "text/html": [
       "<div>\n",
       "<style scoped>\n",
       "    .dataframe tbody tr th:only-of-type {\n",
       "        vertical-align: middle;\n",
       "    }\n",
       "\n",
       "    .dataframe tbody tr th {\n",
       "        vertical-align: top;\n",
       "    }\n",
       "\n",
       "    .dataframe thead th {\n",
       "        text-align: right;\n",
       "    }\n",
       "</style>\n",
       "<table border=\"1\" class=\"dataframe\">\n",
       "  <thead>\n",
       "    <tr style=\"text-align: right;\">\n",
       "      <th></th>\n",
       "      <th>﻿tipo_documento</th>\n",
       "      <th>documento</th>\n",
       "      <th>apellidos</th>\n",
       "      <th>nombres</th>\n",
       "      <th>fecha_publicacion</th>\n",
       "      <th>fecha_vencimiento</th>\n",
       "      <th>descripcion</th>\n",
       "      <th>genero</th>\n",
       "    </tr>\n",
       "  </thead>\n",
       "  <tbody>\n",
       "    <tr>\n",
       "      <td>0</td>\n",
       "      <td>DNI</td>\n",
       "      <td>18398059</td>\n",
       "      <td>ABACA</td>\n",
       "      <td>ARIEL OMAR</td>\n",
       "      <td>2021-01-13</td>\n",
       "      <td>2021-01-27</td>\n",
       "      <td>solicitud de autorizacion de portacion de arma...</td>\n",
       "      <td>masculino</td>\n",
       "    </tr>\n",
       "    <tr>\n",
       "      <td>1</td>\n",
       "      <td>DNI</td>\n",
       "      <td>20911801</td>\n",
       "      <td>ABBIATICI</td>\n",
       "      <td>ESTEBAN GABRIEL</td>\n",
       "      <td>2021-01-05</td>\n",
       "      <td>2021-01-19</td>\n",
       "      <td>solicitud de autorizacion de portacion de arma...</td>\n",
       "      <td>masculino</td>\n",
       "    </tr>\n",
       "    <tr>\n",
       "      <td>2</td>\n",
       "      <td>DNI</td>\n",
       "      <td>12082556</td>\n",
       "      <td>ABEAL</td>\n",
       "      <td>FERNANDO MARTIN</td>\n",
       "      <td>2021-01-13</td>\n",
       "      <td>2021-01-27</td>\n",
       "      <td>solicitud de autorizacion de portacion de arma...</td>\n",
       "      <td>masculino</td>\n",
       "    </tr>\n",
       "    <tr>\n",
       "      <td>3</td>\n",
       "      <td>DNI</td>\n",
       "      <td>26551519</td>\n",
       "      <td>ABRIOLA</td>\n",
       "      <td>MARIO OSVALDO</td>\n",
       "      <td>2021-01-13</td>\n",
       "      <td>2021-01-27</td>\n",
       "      <td>solicitud de autorizacion de portacion de arma...</td>\n",
       "      <td>masculino</td>\n",
       "    </tr>\n",
       "    <tr>\n",
       "      <td>4</td>\n",
       "      <td>DNI</td>\n",
       "      <td>16081391</td>\n",
       "      <td>ACEVEDO</td>\n",
       "      <td>HECTOR ANTONIO</td>\n",
       "      <td>2021-01-05</td>\n",
       "      <td>2021-01-19</td>\n",
       "      <td>solicitud de autorizacion de portacion de arma...</td>\n",
       "      <td>masculino</td>\n",
       "    </tr>\n",
       "    <tr>\n",
       "      <td>...</td>\n",
       "      <td>...</td>\n",
       "      <td>...</td>\n",
       "      <td>...</td>\n",
       "      <td>...</td>\n",
       "      <td>...</td>\n",
       "      <td>...</td>\n",
       "      <td>...</td>\n",
       "      <td>...</td>\n",
       "    </tr>\n",
       "    <tr>\n",
       "      <td>1171</td>\n",
       "      <td>DNI</td>\n",
       "      <td>18140717</td>\n",
       "      <td>ZARDI</td>\n",
       "      <td>VICTOR ALCIDES</td>\n",
       "      <td>2021-01-13</td>\n",
       "      <td>2021-01-27</td>\n",
       "      <td>solicitud de autorizacion de portacion de arma...</td>\n",
       "      <td>masculino</td>\n",
       "    </tr>\n",
       "    <tr>\n",
       "      <td>1172</td>\n",
       "      <td>DNI</td>\n",
       "      <td>29013863</td>\n",
       "      <td>ZEMEÑUK</td>\n",
       "      <td>FERNANDO MANUEL</td>\n",
       "      <td>2021-01-05</td>\n",
       "      <td>2021-01-19</td>\n",
       "      <td>solicitud de autorizacion de portacion de arma...</td>\n",
       "      <td>masculino</td>\n",
       "    </tr>\n",
       "    <tr>\n",
       "      <td>1173</td>\n",
       "      <td>DNI</td>\n",
       "      <td>20011144</td>\n",
       "      <td>ZENA</td>\n",
       "      <td>EDUARDO JAVIER</td>\n",
       "      <td>2021-01-15</td>\n",
       "      <td>2021-01-29</td>\n",
       "      <td>solicitud de autorizacion de portacion de arma...</td>\n",
       "      <td>masculino</td>\n",
       "    </tr>\n",
       "    <tr>\n",
       "      <td>1174</td>\n",
       "      <td>DNI</td>\n",
       "      <td>16506237</td>\n",
       "      <td>ZICAVO</td>\n",
       "      <td>FERNANDO ADOLFO</td>\n",
       "      <td>2021-01-13</td>\n",
       "      <td>2021-01-27</td>\n",
       "      <td>solicitud de autorizacion de portacion de arma...</td>\n",
       "      <td>masculino</td>\n",
       "    </tr>\n",
       "    <tr>\n",
       "      <td>1175</td>\n",
       "      <td>DNI</td>\n",
       "      <td>23143940</td>\n",
       "      <td>ZOTTELE</td>\n",
       "      <td>ALDO FABRICIO</td>\n",
       "      <td>2021-01-13</td>\n",
       "      <td>2021-01-27</td>\n",
       "      <td>solicitud de autorizacion de portacion de arma...</td>\n",
       "      <td>masculino</td>\n",
       "    </tr>\n",
       "  </tbody>\n",
       "</table>\n",
       "<p>1176 rows × 8 columns</p>\n",
       "</div>"
      ],
      "text/plain": [
       "     ﻿tipo_documento  documento  apellidos          nombres fecha_publicacion  \\\n",
       "0                DNI   18398059      ABACA       ARIEL OMAR        2021-01-13   \n",
       "1                DNI   20911801  ABBIATICI  ESTEBAN GABRIEL        2021-01-05   \n",
       "2                DNI   12082556      ABEAL  FERNANDO MARTIN        2021-01-13   \n",
       "3                DNI   26551519    ABRIOLA    MARIO OSVALDO        2021-01-13   \n",
       "4                DNI   16081391    ACEVEDO   HECTOR ANTONIO        2021-01-05   \n",
       "...              ...        ...        ...              ...               ...   \n",
       "1171             DNI   18140717      ZARDI   VICTOR ALCIDES        2021-01-13   \n",
       "1172             DNI   29013863    ZEMEÑUK  FERNANDO MANUEL        2021-01-05   \n",
       "1173             DNI   20011144       ZENA   EDUARDO JAVIER        2021-01-15   \n",
       "1174             DNI   16506237     ZICAVO  FERNANDO ADOLFO        2021-01-13   \n",
       "1175             DNI   23143940    ZOTTELE    ALDO FABRICIO        2021-01-13   \n",
       "\n",
       "     fecha_vencimiento                                        descripcion  \\\n",
       "0           2021-01-27  solicitud de autorizacion de portacion de arma...   \n",
       "1           2021-01-19  solicitud de autorizacion de portacion de arma...   \n",
       "2           2021-01-27  solicitud de autorizacion de portacion de arma...   \n",
       "3           2021-01-27  solicitud de autorizacion de portacion de arma...   \n",
       "4           2021-01-19  solicitud de autorizacion de portacion de arma...   \n",
       "...                ...                                                ...   \n",
       "1171        2021-01-27  solicitud de autorizacion de portacion de arma...   \n",
       "1172        2021-01-19  solicitud de autorizacion de portacion de arma...   \n",
       "1173        2021-01-29  solicitud de autorizacion de portacion de arma...   \n",
       "1174        2021-01-27  solicitud de autorizacion de portacion de arma...   \n",
       "1175        2021-01-27  solicitud de autorizacion de portacion de arma...   \n",
       "\n",
       "         genero  \n",
       "0     masculino  \n",
       "1     masculino  \n",
       "2     masculino  \n",
       "3     masculino  \n",
       "4     masculino  \n",
       "...         ...  \n",
       "1171  masculino  \n",
       "1172  masculino  \n",
       "1173  masculino  \n",
       "1174  masculino  \n",
       "1175  masculino  \n",
       "\n",
       "[1176 rows x 8 columns]"
      ]
     },
     "execution_count": 10,
     "metadata": {},
     "output_type": "execute_result"
    }
   ],
   "source": [
    "pd.read_csv(\"Dataset/solicitudes-autorizacion-portacion-armas-fuego-202101-quincena-1.csv\")\n",
    "df = pd.read_csv(\"Dataset/solicitudes-autorizacion-portacion-armas-fuego-202101-quincena-1.csv\")\n",
    "df\n",
    "\n",
    "\n"
   ]
  },
  {
   "cell_type": "code",
   "execution_count": null,
   "metadata": {},
   "outputs": [],
   "source": []
  },
  {
   "cell_type": "code",
   "execution_count": 11,
   "metadata": {},
   "outputs": [
    {
     "data": {
      "text/html": [
       "<div>\n",
       "<style scoped>\n",
       "    .dataframe tbody tr th:only-of-type {\n",
       "        vertical-align: middle;\n",
       "    }\n",
       "\n",
       "    .dataframe tbody tr th {\n",
       "        vertical-align: top;\n",
       "    }\n",
       "\n",
       "    .dataframe thead th {\n",
       "        text-align: right;\n",
       "    }\n",
       "</style>\n",
       "<table border=\"1\" class=\"dataframe\">\n",
       "  <thead>\n",
       "    <tr style=\"text-align: right;\">\n",
       "      <th></th>\n",
       "      <th>﻿tipo_documento</th>\n",
       "      <th>documento</th>\n",
       "      <th>apellidos</th>\n",
       "      <th>nombres</th>\n",
       "      <th>fecha_publicacion</th>\n",
       "      <th>fecha_vencimiento</th>\n",
       "      <th>descripcion</th>\n",
       "      <th>genero</th>\n",
       "    </tr>\n",
       "  </thead>\n",
       "  <tbody>\n",
       "    <tr>\n",
       "      <td>0</td>\n",
       "      <td>DNI</td>\n",
       "      <td>18398059</td>\n",
       "      <td>ABACA</td>\n",
       "      <td>ARIEL OMAR</td>\n",
       "      <td>2021-01-13</td>\n",
       "      <td>2021-01-27</td>\n",
       "      <td>solicitud de autorizacion de portacion de arma...</td>\n",
       "      <td>masculino</td>\n",
       "    </tr>\n",
       "    <tr>\n",
       "      <td>1</td>\n",
       "      <td>DNI</td>\n",
       "      <td>20911801</td>\n",
       "      <td>ABBIATICI</td>\n",
       "      <td>ESTEBAN GABRIEL</td>\n",
       "      <td>2021-01-05</td>\n",
       "      <td>2021-01-19</td>\n",
       "      <td>solicitud de autorizacion de portacion de arma...</td>\n",
       "      <td>masculino</td>\n",
       "    </tr>\n",
       "    <tr>\n",
       "      <td>2</td>\n",
       "      <td>DNI</td>\n",
       "      <td>12082556</td>\n",
       "      <td>ABEAL</td>\n",
       "      <td>FERNANDO MARTIN</td>\n",
       "      <td>2021-01-13</td>\n",
       "      <td>2021-01-27</td>\n",
       "      <td>solicitud de autorizacion de portacion de arma...</td>\n",
       "      <td>masculino</td>\n",
       "    </tr>\n",
       "    <tr>\n",
       "      <td>3</td>\n",
       "      <td>DNI</td>\n",
       "      <td>26551519</td>\n",
       "      <td>ABRIOLA</td>\n",
       "      <td>MARIO OSVALDO</td>\n",
       "      <td>2021-01-13</td>\n",
       "      <td>2021-01-27</td>\n",
       "      <td>solicitud de autorizacion de portacion de arma...</td>\n",
       "      <td>masculino</td>\n",
       "    </tr>\n",
       "    <tr>\n",
       "      <td>4</td>\n",
       "      <td>DNI</td>\n",
       "      <td>16081391</td>\n",
       "      <td>ACEVEDO</td>\n",
       "      <td>HECTOR ANTONIO</td>\n",
       "      <td>2021-01-05</td>\n",
       "      <td>2021-01-19</td>\n",
       "      <td>solicitud de autorizacion de portacion de arma...</td>\n",
       "      <td>masculino</td>\n",
       "    </tr>\n",
       "  </tbody>\n",
       "</table>\n",
       "</div>"
      ],
      "text/plain": [
       "  ﻿tipo_documento  documento  apellidos          nombres fecha_publicacion  \\\n",
       "0             DNI   18398059      ABACA       ARIEL OMAR        2021-01-13   \n",
       "1             DNI   20911801  ABBIATICI  ESTEBAN GABRIEL        2021-01-05   \n",
       "2             DNI   12082556      ABEAL  FERNANDO MARTIN        2021-01-13   \n",
       "3             DNI   26551519    ABRIOLA    MARIO OSVALDO        2021-01-13   \n",
       "4             DNI   16081391    ACEVEDO   HECTOR ANTONIO        2021-01-05   \n",
       "\n",
       "  fecha_vencimiento                                        descripcion  \\\n",
       "0        2021-01-27  solicitud de autorizacion de portacion de arma...   \n",
       "1        2021-01-19  solicitud de autorizacion de portacion de arma...   \n",
       "2        2021-01-27  solicitud de autorizacion de portacion de arma...   \n",
       "3        2021-01-27  solicitud de autorizacion de portacion de arma...   \n",
       "4        2021-01-19  solicitud de autorizacion de portacion de arma...   \n",
       "\n",
       "      genero  \n",
       "0  masculino  \n",
       "1  masculino  \n",
       "2  masculino  \n",
       "3  masculino  \n",
       "4  masculino  "
      ]
     },
     "execution_count": 11,
     "metadata": {},
     "output_type": "execute_result"
    }
   ],
   "source": [
    "df.head()"
   ]
  },
  {
   "cell_type": "code",
   "execution_count": 12,
   "metadata": {},
   "outputs": [
    {
     "data": {
      "text/plain": [
       "0       2021-01-13\n",
       "1       2021-01-05\n",
       "2       2021-01-13\n",
       "3       2021-01-13\n",
       "4       2021-01-05\n",
       "           ...    \n",
       "1171    2021-01-13\n",
       "1172    2021-01-05\n",
       "1173    2021-01-15\n",
       "1174    2021-01-13\n",
       "1175    2021-01-13\n",
       "Name: fecha_publicacion, Length: 1176, dtype: object"
      ]
     },
     "execution_count": 12,
     "metadata": {},
     "output_type": "execute_result"
    }
   ],
   "source": [
    "df.fecha_publicacion"
   ]
  },
  {
   "cell_type": "code",
   "execution_count": 13,
   "metadata": {},
   "outputs": [
    {
     "data": {
      "text/plain": [
       "0       2021-01-13\n",
       "1       2021-01-05\n",
       "2       2021-01-13\n",
       "3       2021-01-13\n",
       "4       2021-01-05\n",
       "           ...    \n",
       "1171    2021-01-13\n",
       "1172    2021-01-05\n",
       "1173    2021-01-15\n",
       "1174    2021-01-13\n",
       "1175    2021-01-13\n",
       "Name: fecha_publicacion, Length: 1176, dtype: object"
      ]
     },
     "execution_count": 13,
     "metadata": {},
     "output_type": "execute_result"
    }
   ],
   "source": [
    "df[\"fecha_publicacion\"]"
   ]
  },
  {
   "cell_type": "code",
   "execution_count": 14,
   "metadata": {},
   "outputs": [
    {
     "data": {
      "text/plain": [
       "'2021-01-05'"
      ]
     },
     "execution_count": 14,
     "metadata": {},
     "output_type": "execute_result"
    }
   ],
   "source": [
    "df.loc[1, \"fecha_publicacion\"]"
   ]
  },
  {
   "cell_type": "code",
   "execution_count": 15,
   "metadata": {},
   "outputs": [
    {
     "data": {
      "text/plain": [
       "'2021-01-13'"
      ]
     },
     "execution_count": 15,
     "metadata": {},
     "output_type": "execute_result"
    }
   ],
   "source": [
    "df.iloc[2,4]"
   ]
  },
  {
   "cell_type": "code",
   "execution_count": 16,
   "metadata": {},
   "outputs": [
    {
     "data": {
      "text/plain": [
       "(1176, 8)"
      ]
     },
     "execution_count": 16,
     "metadata": {},
     "output_type": "execute_result"
    }
   ],
   "source": [
    "df.shape"
   ]
  },
  {
   "cell_type": "code",
   "execution_count": 25,
   "metadata": {},
   "outputs": [
    {
     "data": {
      "text/plain": [
       "﻿tipo_documento      object\n",
       "documento             int64\n",
       "apellidos            object\n",
       "nombres              object\n",
       "fecha_publicacion    object\n",
       "fecha_vencimiento    object\n",
       "descripcion          object\n",
       "genero               object\n",
       "dtype: object"
      ]
     },
     "execution_count": 25,
     "metadata": {},
     "output_type": "execute_result"
    }
   ],
   "source": [
    "df.dtypes\n"
   ]
  },
  {
   "cell_type": "code",
   "execution_count": 30,
   "metadata": {},
   "outputs": [
    {
     "data": {
      "text/plain": [
       "<matplotlib.axes._subplots.AxesSubplot at 0x1c033f0a888>"
      ]
     },
     "execution_count": 30,
     "metadata": {},
     "output_type": "execute_result"
    },
    {
     "data": {
      "image/png": "[encoded data removed]",
      "text/plain": [
       "<Figure size 432x288 with 1 Axes>"
      ]
     },
     "metadata": {
      "needs_background": "light"
     },
     "output_type": "display_data"
    }
   ],
   "source": [
    "df.genero.hist()"
   ]
  },
  {
   "cell_type": "code",
   "execution_count": 32,
   "metadata": {},
   "outputs": [
    {
     "data": {
      "text/plain": [
       "masculino          1152\n",
       "femenino             23\n",
       "no especificado       1\n",
       "Name: genero, dtype: int64"
      ]
     },
     "execution_count": 32,
     "metadata": {},
     "output_type": "execute_result"
    }
   ],
   "source": [
    "df.genero.value_counts()"
   ]
  },
  {
   "cell_type": "code",
   "execution_count": 33,
   "metadata": {},
   "outputs": [
    {
     "data": {
      "text/plain": [
       "<matplotlib.axes._subplots.AxesSubplot at 0x1c033fa2088>"
      ]
     },
     "execution_count": 33,
     "metadata": {},
     "output_type": "execute_result"
    },
    {
     "data": {
      "image/png": "[encoded data removed]",
      "text/plain": [
       "<Figure size 432x288 with 1 Axes>"
      ]
     },
     "metadata": {
      "needs_background": "light"
     },
     "output_type": "display_data"
    }
   ],
   "source": [
    "df.descripcion.hist()"
   ]
  },
  {
   "cell_type": "code",
   "execution_count": 34,
   "metadata": {},
   "outputs": [
    {
     "data": {
      "text/plain": [
       "array(['solicitud de autorizacion de portacion de armas de fuego'],\n",
       "      dtype=object)"
      ]
     },
     "execution_count": 34,
     "metadata": {},
     "output_type": "execute_result"
    }
   ],
   "source": [
    "df.descripcion.unique()"
   ]
  },
  {
   "cell_type": "code",
   "execution_count": 35,
   "metadata": {},
   "outputs": [
    {
     "data": {
      "text/plain": [
       "1"
      ]
     },
     "execution_count": 35,
     "metadata": {},
     "output_type": "execute_result"
    }
   ],
   "source": [
    "df.descripcion.nunique()"
   ]
  }
 ],
 "metadata": {
  "kernelspec": {
   "display_name": "Python 3",
   "language": "python",
   "name": "python3"
  },
  "language_info": {
   "codemirror_mode": {
    "name": "ipython",
    "version": 3
   },
   "file_extension": ".py",
   "mimetype": "text/x-python",
   "name": "python",
   "nbconvert_exporter": "python",
   "pygments_lexer": "ipython3",
   "version": "3.7.4"
  }
 },
 "nbformat": 4,
 "nbformat_minor": 2
}
